{
 "cells": [
  {
   "cell_type": "code",
   "execution_count": 1,
   "metadata": {},
   "outputs": [],
   "source": [
    "from bs4 import BeautifulSoup as bs\n",
    "import requests\n",
    "from splinter import Browser\n",
    "import pandas as pd\n",
    "import time\n",
    "# import pymongo"
   ]
  },
  {
   "cell_type": "code",
   "execution_count": 2,
   "metadata": {},
   "outputs": [],
   "source": [
    "    # URL of page to be scraped\n",
    "    nasa_url = 'https://mars.nasa.gov/news/?page=0&per_page=40&order=publish_date+desc%2Ccreated_at+desc&search=&category=19%2C165%2C184%2C204&blank_scope=Latest'\n",
    "    # Retrieve page with the requests module\n",
    "    response = requests.get(nasa_url)\n",
    "    soup = bs(response.text, 'html.parser')\n",
    "    titles = soup.find_all('div', class_=\"content_title\")\n",
    "    paragraphs = soup.find_all('div', class_=\"rollover_description_inner\")\n",
    "    # News\n",
    "    news_title = titles[0].text.replace('\\n','')\n",
    "    news_p = paragraphs[0].text.replace('\\n','').replace('\\'''s','')"
   ]
  },
  {
   "cell_type": "code",
   "execution_count": 3,
   "metadata": {},
   "outputs": [
    {
     "name": "stderr",
     "output_type": "stream",
     "text": [
      "/Users/sylvia/opt/anaconda3/lib/python3.7/site-packages/splinter/driver/webdriver/__init__.py:528: FutureWarning: browser.find_link_by_partial_text is deprecated. Use browser.links.find_by_partial_text instead.\n",
      "  FutureWarning,\n"
     ]
    }
   ],
   "source": [
    "    executable_path = {'executable_path': '/usr/local/bin/chromedriver'}\n",
    "    browser = Browser('chrome', **executable_path, headless=False)\n",
    "    JPL_url = 'https://www.jpl.nasa.gov/spaceimages/?search=&category=Mars'\n",
    "    browser.visit(JPL_url)\n",
    "    browser.click_link_by_partial_text('FULL IMAGE')\n",
    "    time.sleep(2)\n",
    "    browser.click_link_by_partial_text('more info')\n",
    "    browser.click_link_by_partial_text('.jpg')\n",
    "    # featured image url\n",
    "    featured_image_url = browser.url\n",
    "    browser.quit()"
   ]
  },
  {
   "cell_type": "code",
   "execution_count": 4,
   "metadata": {},
   "outputs": [],
   "source": [
    "    weather_url =\"https://twitter.com/marswxreport?lang=en\"\n",
    "    weather_response = requests.get(weather_url)\n",
    "    weather_soup = bs(weather_response.text, 'html.parser')\n",
    "    twitters = weather_soup.find_all('p', class_=\"TweetTextSize TweetTextSize--normal js-tweet-text tweet-text\")\n",
    "    weathers = []\n",
    "\n",
    "    for twitter in twitters:\n",
    "        if \"sol\" in str(twitter.text):\n",
    "            weathers.append(twitter.text)\n",
    "    # mars weather\n",
    "    mars_weather = weathers[0]"
   ]
  },
  {
   "cell_type": "code",
   "execution_count": 5,
   "metadata": {},
   "outputs": [],
   "source": [
    "    \n",
    "    facts_url=\"https://space-facts.com/mars/\"\n",
    "    tables = pd.read_html(facts_url)\n",
    "\n",
    "    for table in tables:\n",
    "        try:\n",
    "            df= table\n",
    "            df.columns = ['Description','Value']\n",
    "            # df = df.set_index('Description')\n",
    "        except:\n",
    "            pass\n",
    "    # facts table "
   ]
  },
  {
   "cell_type": "code",
   "execution_count": 6,
   "metadata": {},
   "outputs": [],
   "source": [
    "    H_url =\"https://astrogeology.usgs.gov/search/results?q=hemisphere+enhanced&k1=target&v1=Mars\"\n",
    "    H_response = requests.get(H_url)\n",
    "    H_soup = bs(H_response.text, 'html.parser')\n",
    "    # print(H_soup.prettify())\n",
    "    Enhanceds = H_soup.find_all('h3')"
   ]
  },
  {
   "cell_type": "code",
   "execution_count": 7,
   "metadata": {},
   "outputs": [],
   "source": [
    "    Enhanced_titles=[]\n",
    "    for Enhanced in Enhanceds:\n",
    "        Enhanced_titles.append(Enhanced.text)\n",
    "    # Enhanced img url\n",
    "    img_url=[]\n",
    "    i = 1\n",
    "\n",
    "    executable_path = {'executable_path': '/usr/local/bin/chromedriver'}\n",
    "    H_browser = Browser('chrome', **executable_path, headless=False)\n",
    "    H_browser.visit(H_url)\n",
    "\n",
    "    for Enhanced in Enhanced_titles:\n",
    "        H_browser.click_link_by_partial_text(Enhanced)\n",
    "        H_browser.click_link_by_partial_text('Sample')\n",
    "        time.sleep(3)\n",
    "        img_url.append(H_browser.windows[i].url)\n",
    "        H_browser.back()\n",
    "        i = i+1\n",
    "    H_browser.quit()"
   ]
  },
  {
   "cell_type": "code",
   "execution_count": 8,
   "metadata": {},
   "outputs": [],
   "source": [
    "    # hemisphere image urls\n",
    "    hemisphere_image_urls = []\n",
    "\n",
    "    for x in range(len(Enhanced_titles)): \n",
    "        dic = {\"title\":Enhanced_titles[x],\"img_url\":img_url[x]}\n",
    "        hemisphere_image_urls.append(dic)"
   ]
  },
  {
   "cell_type": "code",
   "execution_count": 9,
   "metadata": {},
   "outputs": [
    {
     "data": {
      "text/plain": [
       "{'news_title': \"Virginia Middle School Student Earns Honor of Naming NASA's Next Mars Rover\",\n",
       " 'news_p': 'NASA chose a seventh-grader from Virginia as winner of the agency \"Name the Rover\" essay contest. Alexander Mather entry for \"Perseverance\" was voted tops among 28,000 entries. ',\n",
       " 'featured_image_url': 'https://photojournal.jpl.nasa.gov/jpeg/PIA16105.jpg',\n",
       " 'mars_weather': 'InSight sol 457 (2020-03-10) low -95.7ºC (-140.3ºF) high -9.1ºC (15.6ºF)\\nwinds from the SSE at 6.5 m/s (14.5 mph) gusting to 21.0 m/s (46.9 mph)\\npressure at 6.30 hPapic.twitter.com/2h0LKoSQrJ',\n",
       " 'factTable': '<table border=\"1\" class=\"dataframe\">\\n  <thead>\\n    <tr style=\"text-align: right;\">\\n      <th>Description</th>\\n      <th>Value</th>\\n    </tr>\\n  </thead>\\n  <tbody>\\n    <tr>\\n      <td>Equatorial Diameter:</td>\\n      <td>6,792 km</td>\\n    </tr>\\n    <tr>\\n      <td>Polar Diameter:</td>\\n      <td>6,752 km</td>\\n    </tr>\\n    <tr>\\n      <td>Mass:</td>\\n      <td>6.39 × 10^23 kg (0.11 Earths)</td>\\n    </tr>\\n    <tr>\\n      <td>Moons:</td>\\n      <td>2 (Phobos &amp; Deimos)</td>\\n    </tr>\\n    <tr>\\n      <td>Orbit Distance:</td>\\n      <td>227,943,824 km (1.38 AU)</td>\\n    </tr>\\n    <tr>\\n      <td>Orbit Period:</td>\\n      <td>687 days (1.9 years)</td>\\n    </tr>\\n    <tr>\\n      <td>Surface Temperature:</td>\\n      <td>-87 to -5 °C</td>\\n    </tr>\\n    <tr>\\n      <td>First Record:</td>\\n      <td>2nd millennium BC</td>\\n    </tr>\\n    <tr>\\n      <td>Recorded By:</td>\\n      <td>Egyptian astronomers</td>\\n    </tr>\\n  </tbody>\\n</table>',\n",
       " 'img_url': ['https://astropedia.astrogeology.usgs.gov/download/Mars/Viking/cerberus_enhanced.tif/full.jpg',\n",
       "  'https://astropedia.astrogeology.usgs.gov/download/Mars/Viking/schiaparelli_enhanced.tif/full.jpg',\n",
       "  'https://astropedia.astrogeology.usgs.gov/download/Mars/Viking/syrtis_major_enhanced.tif/full.jpg',\n",
       "  'https://astropedia.astrogeology.usgs.gov/download/Mars/Viking/valles_marineris_enhanced.tif/full.jpg'],\n",
       " 'hemisphere_image_urls': [{'title': 'Cerberus Hemisphere Enhanced',\n",
       "   'img_url': 'https://astropedia.astrogeology.usgs.gov/download/Mars/Viking/cerberus_enhanced.tif/full.jpg'},\n",
       "  {'title': 'Schiaparelli Hemisphere Enhanced',\n",
       "   'img_url': 'https://astropedia.astrogeology.usgs.gov/download/Mars/Viking/schiaparelli_enhanced.tif/full.jpg'},\n",
       "  {'title': 'Syrtis Major Hemisphere Enhanced',\n",
       "   'img_url': 'https://astropedia.astrogeology.usgs.gov/download/Mars/Viking/syrtis_major_enhanced.tif/full.jpg'},\n",
       "  {'title': 'Valles Marineris Hemisphere Enhanced',\n",
       "   'img_url': 'https://astropedia.astrogeology.usgs.gov/download/Mars/Viking/valles_marineris_enhanced.tif/full.jpg'}]}"
      ]
     },
     "execution_count": 9,
     "metadata": {},
     "output_type": "execute_result"
    }
   ],
   "source": [
    "    factTable = df.to_html(header=\"true\", index=False)\n",
    "\n",
    "\n",
    "    scrape_data = {\n",
    "        \"news_title\":news_title,\n",
    "        \"news_p\":news_p,\n",
    "        \"featured_image_url\" : featured_image_url,\n",
    "        \"mars_weather\":mars_weather,\n",
    "        \"factTable\":factTable,\n",
    "        \"img_url\":img_url,\n",
    "        \"hemisphere_image_urls\":hemisphere_image_urls\n",
    "    }\n",
    "    scrape_data"
   ]
  },
  {
   "cell_type": "code",
   "execution_count": null,
   "metadata": {},
   "outputs": [],
   "source": []
  }
 ],
 "metadata": {
  "kernelspec": {
   "display_name": "Python 3",
   "language": "python",
   "name": "python3"
  },
  "language_info": {
   "codemirror_mode": {
    "name": "ipython",
    "version": 3
   },
   "file_extension": ".py",
   "mimetype": "text/x-python",
   "name": "python",
   "nbconvert_exporter": "python",
   "pygments_lexer": "ipython3",
   "version": "3.7.4"
  }
 },
 "nbformat": 4,
 "nbformat_minor": 2
}
